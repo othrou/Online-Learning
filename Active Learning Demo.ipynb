{
  "cells": [
    {
      "cell_type": "markdown",
      "metadata": {
        "id": "view-in-github",
        "colab_type": "text"
      },
      "source": [
        "<a href=\"https://colab.research.google.com/github/othrou/Online-Learning/blob/main/Active%20Learning%20Demo.ipynb\" target=\"_parent\"><img src=\"https://colab.research.google.com/assets/colab-badge.svg\" alt=\"Open In Colab\"/></a>"
      ]
    },
    {
      "cell_type": "markdown",
      "source": [
        "<h1><center> **📌 ACTIVE LEARNING** </font></center></h1>\n",
        "<h3><center> ROUGUI Othmane</center></h3>\n",
        "<br>\n",
        "\n",
        "Active learning is a semi-supervised machine learning technique where the model iteratively selects the most informative samples from an unlabeled pool to query their labels. The goal is to improve the model's performance with minimal labeled data. By strategically selecting which samples to label, active learning reduces the need for large labeled datasets, making it particularly useful in scenarios where labeling is expensive or time-consuming.\n",
        "\n",
        "---\n",
        "\n",
        "## **📚 Table of Contents**\n",
        "\n",
        "1. [**Dataset Preparation**](#task-1-dataset-preparation)  \n",
        "   - Load the Iris dataset.  \n",
        "   - Split into labeled set, unlabeled pool, and test data.  \n",
        "\n",
        "2. [**Uncertainty Sampling Implementation**](#task-2-implement-uncertainty-sampling)  \n",
        "   - Implement the Uncertainty Sampling algorithm.  \n",
        "   - Run using Logistic Regression.  \n",
        "   - Analyze accuracy progression over queries.  \n",
        "\n",
        "3. [**Query by Committee (QBC) Implementation**](#task-3-implement-query-by-committee-qbc)  \n",
        "   - Implement the QBC algorithm.  \n",
        "   - Use a committee of models (e.g., Random Forest, SVM, Logistic Regression).  \n",
        "   - Analyze accuracy progression over queries.  \n",
        "\n",
        "4. [**Analysis & Questions**](#analysis--questions)  \n",
        "   - Compare Uncertainty Sampling and QBC.  \n",
        "   - Evaluate accuracy improvements, query efficiency, and model stability.  \n",
        "\n",
        "---\n",
        "\n"
      ],
      "metadata": {
        "id": "ifwGO17alwR9"
      }
    },
    {
      "cell_type": "code",
      "source": [
        "import torch\n",
        "\n",
        "from sklearn.model_selection import train_test_split\n",
        "from sklearn.datasets import load_iris\n",
        "from sklearn.linear_model import LogisticRegression\n",
        "from sklearn.metrics import accuracy_score\n",
        "\n",
        "import numpy as np\n",
        "from random import shuffle"
      ],
      "metadata": {
        "id": "2P0ZC0T_RhuP"
      },
      "execution_count": 4,
      "outputs": []
    },
    {
      "cell_type": "code",
      "source": [
        "# Load Iris dataset\n",
        "iris = load_iris()\n",
        "X = iris.data\n",
        "y = iris.target"
      ],
      "metadata": {
        "id": "9V0YWlpdRSnk"
      },
      "execution_count": 51,
      "outputs": []
    },
    {
      "cell_type": "code",
      "source": [
        "X.dtype, X.shape"
      ],
      "metadata": {
        "colab": {
          "base_uri": "https://localhost:8080/"
        },
        "id": "yO2Q0WbGpN4u",
        "outputId": "629072db-08dc-474e-a544-9342797ecf60"
      },
      "execution_count": 16,
      "outputs": [
        {
          "output_type": "execute_result",
          "data": {
            "text/plain": [
              "(dtype('float64'), (150, 4))"
            ]
          },
          "metadata": {},
          "execution_count": 16
        }
      ]
    },
    {
      "cell_type": "code",
      "source": [
        "# Define the proportions for splitting\n",
        "test_size = 0.3\n",
        "unlabeled_size = 0.5\n",
        "labeled_size = 1 - test_size - unlabeled_size\n",
        "\n",
        "# Step 2.1: Split into training (70%) and test (30%)\n",
        "X_train, X_test, y_train, y_test = train_test_split(X, y, test_size=test_size, random_state=42, stratify=y)\n",
        "\n",
        "# Step 2.2: Split training data into labeled (20%) and unlabeled (50%)\n",
        "X_labeled, X_unlabeled, y_labeled, y_unlabeled = train_test_split(\n",
        "    X_train, y_train, test_size=unlabeled_size / (unlabeled_size + labeled_size), random_state=42, stratify=y_train\n",
        ")\n",
        "\n",
        "# Print the sizes of each split\n",
        "print(f\"Labeled set (L): {X_labeled.shape[0]} samples\")\n",
        "print(f\"Unlabeled pool (U): {X_unlabeled.shape[0]} samples\")\n",
        "print(f\"Test set: {X_test.shape[0]} samples\")"
      ],
      "metadata": {
        "colab": {
          "base_uri": "https://localhost:8080/"
        },
        "id": "-H5SUJ29RV_t",
        "outputId": "9562bf52-29e7-4b5d-c2bb-bf005a2cb916"
      },
      "execution_count": 52,
      "outputs": [
        {
          "output_type": "stream",
          "name": "stdout",
          "text": [
            "Labeled set (L): 30 samples\n",
            "Unlabeled pool (U): 75 samples\n",
            "Test set: 45 samples\n"
          ]
        }
      ]
    },
    {
      "cell_type": "code",
      "source": [
        "# Step 5: Print the sizes of each split\n",
        "print(f\"Labeled set (L): {X_labeled.shape[0]} samples\")\n",
        "print(f\"Unlabeled pool (U): {X_unlabeled.shape[0]} samples\")\n",
        "print(f\"Test set: {X_test.shape[0]} samples\")\n",
        "\n",
        "# Step 6: Verify class distribution in each split\n",
        "def print_class_distribution(y, split_name):\n",
        "    unique_classes, counts = np.unique(y, return_counts=True)\n",
        "    print(f\"Class distribution in {split_name}:\")\n",
        "    for cls, count in zip(unique_classes, counts):\n",
        "        print(f\"  Class {cls}: {count} samples\")\n",
        "\n",
        "print_class_distribution(y_labeled, \"Labeled set (L)\")\n",
        "print_class_distribution(y_unlabeled, \"Unlabeled pool (U)\")\n",
        "print_class_distribution(y_test, \"Test set\")"
      ],
      "metadata": {
        "colab": {
          "base_uri": "https://localhost:8080/"
        },
        "id": "jeYtvwSBpWko",
        "outputId": "70c61b75-f381-41e3-9de4-c49fe07ac5b1"
      },
      "execution_count": 46,
      "outputs": [
        {
          "output_type": "stream",
          "name": "stdout",
          "text": [
            "Labeled set (L): 30 samples\n",
            "Unlabeled pool (U): 75 samples\n",
            "Test set: 45 samples\n",
            "Class distribution in Labeled set (L):\n",
            "  Class 0: 10 samples\n",
            "  Class 1: 10 samples\n",
            "  Class 2: 10 samples\n",
            "Class distribution in Unlabeled pool (U):\n",
            "  Class 0: 25 samples\n",
            "  Class 1: 25 samples\n",
            "  Class 2: 25 samples\n",
            "Class distribution in Test set:\n",
            "  Class 0: 15 samples\n",
            "  Class 1: 15 samples\n",
            "  Class 2: 15 samples\n"
          ]
        }
      ]
    },
    {
      "cell_type": "code",
      "source": [
        "def uncertainty(method='entropy', prob_dist=None):\n",
        "    if method == 'entropy':\n",
        "        # Entropy-based uncertainty\n",
        "        uncertainties = -np.sum(prob_dist * np.log(prob_dist + 1e-10), axis=1)\n",
        "\n",
        "    elif method == 'Least Confident':\n",
        "        # Least confident uncertainty\n",
        "        uncertainties = 1 - np.max(prob_dist, axis=1)\n",
        "\n",
        "    elif method == 'margin':\n",
        "        # Margin-based uncertainty (difference between top two probabilities)\n",
        "        sorted_probs = np.sort(prob_dist, axis=1)\n",
        "        uncertainties = sorted_probs[:, -1] - sorted_probs[:, -2]\n",
        "\n",
        "    return uncertainties"
      ],
      "metadata": {
        "id": "7H1JIdEcjHqt"
      },
      "execution_count": 47,
      "outputs": []
    },
    {
      "cell_type": "code",
      "source": [
        "def Active_Learning_uncertainty_sampling(\n",
        "    X_labeled, y_labeled, X_unlabeled, y_unlabeled, X_test, y_test,\n",
        "    model=None, budget=None, method='entropy'\n",
        "):\n",
        "    # Initialize the model if not provided\n",
        "    if model is None:\n",
        "        model = LogisticRegression(max_iter=1000, random_state=42)\n",
        "\n",
        "    # Initial training on the labeled set\n",
        "    model.fit(X_labeled, y_labeled)\n",
        "\n",
        "    # Set budget if not provided\n",
        "    if budget is None:\n",
        "        budget = len(X_unlabeled) // 2\n",
        "\n",
        "    # List to store accuracy history\n",
        "    accuracy_history = []\n",
        "\n",
        "    # Active learning loop\n",
        "    for i in range(budget):\n",
        "        # Step 4: Compute probabilities P_M(y|x) for all x in U\n",
        "        probas = model.predict_proba(X_unlabeled)\n",
        "\n",
        "        # Step 5: Compute uncertainty using the specified method\n",
        "        uncertainties = uncertainty(method=method, prob_dist=probas)\n",
        "\n",
        "        # Step 6: Select the instance with the highest uncertainty\n",
        "        query_idx = np.argmax(uncertainties)\n",
        "        query_instance = X_unlabeled[query_idx]\n",
        "        query_label = y_unlabeled[query_idx]\n",
        "\n",
        "        # Step 7: Add the queried instance to the labeled set\n",
        "        X_labeled = np.vstack([X_labeled, query_instance])\n",
        "        y_labeled = np.append(y_labeled, query_label)\n",
        "\n",
        "        # Step 8: Remove the queried instance from the unlabeled pool\n",
        "        X_unlabeled = np.delete(X_unlabeled, query_idx, axis=0)\n",
        "        y_unlabeled = np.delete(y_unlabeled, query_idx)\n",
        "\n",
        "        # Step 9: Retrain the model on the updated labeled set\n",
        "        model.fit(X_labeled, y_labeled)\n",
        "\n",
        "        # Evaluate the model on the test set\n",
        "        test_accuracy = accuracy_score(y_test, model.predict(X_test))\n",
        "        accuracy_history.append(test_accuracy)\n",
        "\n",
        "        # Print progress\n",
        "        print(f\"Iteration {i+1}/{budget}: Test Accuracy = {test_accuracy:.4f}\")\n",
        "\n",
        "    # Final test accuracy\n",
        "    final_accuracy = accuracy_score(y_test, model.predict(X_test))\n",
        "    print(f\"Final Test Accuracy: {final_accuracy:.4f}\")\n",
        "\n",
        "    return accuracy_history"
      ],
      "metadata": {
        "id": "68kk_7Bwr7_6"
      },
      "execution_count": 41,
      "outputs": []
    },
    {
      "cell_type": "code",
      "source": [
        "import matplotlib.pyplot as plt\n",
        "\n",
        "# Run active learning\n",
        "accuracy_history = Active_Learning_uncertainty_sampling(\n",
        "    X_labeled, y_labeled, X_unlabeled, y_unlabeled, X_test, y_test,\n",
        "    method='entropy'\n",
        ")\n",
        "\n",
        "# Plot accuracy progression\n",
        "plt.figure(figsize=(10, 6))\n",
        "plt.plot(range(1, len(accuracy_history) + 1), accuracy_history, marker='o', linestyle='-', color='b')\n",
        "plt.title('Accuracy Progression Over Active Learning Iterations', fontsize=16)\n",
        "plt.xlabel('Iteration', fontsize=14)\n",
        "plt.ylabel('Test Accuracy', fontsize=14)\n",
        "plt.grid(True)\n",
        "plt.show()"
      ],
      "metadata": {
        "colab": {
          "base_uri": "https://localhost:8080/",
          "height": 1000
        },
        "id": "adsXhw86yRyQ",
        "outputId": "0254559e-3008-4c00-a40b-49c2a230cd23"
      },
      "execution_count": 48,
      "outputs": [
        {
          "output_type": "stream",
          "name": "stdout",
          "text": [
            "Iteration 1/37: Test Accuracy = 0.8889\n",
            "Iteration 2/37: Test Accuracy = 0.8889\n",
            "Iteration 3/37: Test Accuracy = 0.9333\n",
            "Iteration 4/37: Test Accuracy = 0.9111\n",
            "Iteration 5/37: Test Accuracy = 0.9333\n",
            "Iteration 6/37: Test Accuracy = 0.9333\n",
            "Iteration 7/37: Test Accuracy = 0.9333\n",
            "Iteration 8/37: Test Accuracy = 0.9333\n",
            "Iteration 9/37: Test Accuracy = 0.9556\n",
            "Iteration 10/37: Test Accuracy = 0.9333\n",
            "Iteration 11/37: Test Accuracy = 0.9333\n",
            "Iteration 12/37: Test Accuracy = 0.9333\n",
            "Iteration 13/37: Test Accuracy = 0.9333\n",
            "Iteration 14/37: Test Accuracy = 0.9556\n",
            "Iteration 15/37: Test Accuracy = 0.9333\n",
            "Iteration 16/37: Test Accuracy = 0.9333\n",
            "Iteration 17/37: Test Accuracy = 0.9333\n",
            "Iteration 18/37: Test Accuracy = 0.9333\n",
            "Iteration 19/37: Test Accuracy = 0.9333\n",
            "Iteration 20/37: Test Accuracy = 0.9556\n",
            "Iteration 21/37: Test Accuracy = 0.9333\n",
            "Iteration 22/37: Test Accuracy = 0.9333\n",
            "Iteration 23/37: Test Accuracy = 0.9556\n",
            "Iteration 24/37: Test Accuracy = 0.9333\n",
            "Iteration 25/37: Test Accuracy = 0.9333\n",
            "Iteration 26/37: Test Accuracy = 0.9333\n",
            "Iteration 27/37: Test Accuracy = 0.9556\n",
            "Iteration 28/37: Test Accuracy = 0.9333\n",
            "Iteration 29/37: Test Accuracy = 0.9333\n",
            "Iteration 30/37: Test Accuracy = 0.9333\n",
            "Iteration 31/37: Test Accuracy = 0.9333\n",
            "Iteration 32/37: Test Accuracy = 0.9333\n",
            "Iteration 33/37: Test Accuracy = 0.9333\n",
            "Iteration 34/37: Test Accuracy = 0.9333\n",
            "Iteration 35/37: Test Accuracy = 0.9333\n",
            "Iteration 36/37: Test Accuracy = 0.9333\n",
            "Iteration 37/37: Test Accuracy = 0.9333\n",
            "Final Test Accuracy: 0.9333\n"
          ]
        },
        {
          "output_type": "display_data",
          "data": {
            "text/plain": [
              "<Figure size 1000x600 with 1 Axes>"
            ],
            "image/png": "[encoded data removed]"
          },
          "metadata": {}
        }
      ]
    },
    {
      "cell_type": "markdown",
      "source": [
        "## Active Learning Accuracy Progression Analysis\n",
        "\n",
        "The plot illustrates the progression of test accuracy over active learning iterations.\n",
        "\n",
        "### Analysis\n",
        "\n",
        "1. **Initial Performance (Iterations 0-5)**:\n",
        "   - The model starts with a relatively low test accuracy (~0.89) at iteration 0.\n",
        "   - There is a raise in accuracy to around 0.91 at iteration 2, which might indicate that the initial queried samples were representative\n",
        "\n",
        "2. **Fluctuations (Iterations 5-25)**:\n",
        "   - The test accuracy exhibits fluctuations, with peaks and troughs. For example:\n",
        "     - At iteration 10, the accuracy spikes to approximately 0.96.\n",
        "     - At iteration 15, there is another peak, followed by a dip.\n",
        "   - These fluctuations suggest that the uncertainty sampling strategy (used to select the most informative samples) may occasionally query instances that do not significantly improve the model or even degrade its performance.\n",
        "\n",
        "3. **Stabilization (Iterations 25-35)**:\n",
        "   - After around iteration 25, the test accuracy stabilizes around 0.93.\n",
        "   - The fluctuations become smaller, indicating that the model has converged to a reasonably good performance level.\n",
        "   - This stabilization suggests that the most informative samples have been queried, and further queries are less likely to provide substantial improvements.\n",
        "\n",
        "\n",
        "### **Interpretation**\n",
        "\n",
        "\n",
        "**Role of Initial Labeled Set**:\n",
        "   - The initial low accuracy (~0.89) suggests that the initial labeled set might have been small or not representative of the entire dataset.\n",
        "   - As more samples are queried and added to the labeled set, the model's performance improves.\n",
        "\n",
        "\n"
      ],
      "metadata": {
        "id": "dFqBum1my4_G"
      }
    },
    {
      "cell_type": "markdown",
      "source": [
        "# Part 2 : Query By Committee (QBC)"
      ],
      "metadata": {
        "id": "LJSh9lI-zxFJ"
      }
    },
    {
      "cell_type": "code",
      "source": [
        "from sklearn.ensemble import RandomForestClassifier\n",
        "from sklearn.svm import SVC\n",
        "\n",
        "\n",
        "def Active_Learning_qbc(\n",
        "    X_labeled, y_labeled, X_unlabeled, y_unlabeled, X_test, y_test,\n",
        "    models=None, budget=None\n",
        "):\n",
        "\n",
        "    # Set budget if not provided\n",
        "    if budget is None:\n",
        "        budget = len(X_unlabeled) // 2\n",
        "\n",
        "    # Initialize the models if not provided\n",
        "    if models is None:\n",
        "        models = [\n",
        "            LogisticRegression(max_iter=1000, random_state=42),\n",
        "            RandomForestClassifier(n_estimators=100, random_state=42),\n",
        "            SVC(probability=True, random_state=42)\n",
        "        ]\n",
        "\n",
        "    # Step 1: Train each model in the committee on the initial labeled set\n",
        "    for model in models:\n",
        "        model.fit(X_labeled, y_labeled)\n",
        "\n",
        "    # List to store accuracy history\n",
        "    accuracy_history = []\n",
        "\n",
        "    # Active learning loop\n",
        "    for i in range(budget):\n",
        "        print(f\"Iteration {i+1}/{budget}\")\n",
        "\n",
        "        # Step 2: Collect predictions from all models for the unlabeled pool\n",
        "        predictions = []\n",
        "        for model in models:\n",
        "            predictions.append(model.predict_proba(X_unlabeled))\n",
        "\n",
        "        # Convert predictions to a numpy array: shape (n_models, n_samples, n_classes)\n",
        "        predictions = np.array(predictions)\n",
        "\n",
        "        # Step 3: Compute the vote distribution for each sample\n",
        "        # Average the probabilities across all models\n",
        "        avg_probabilities = np.mean(predictions, axis=0)\n",
        "\n",
        "        # Step 4: Compute the entropy of the vote distribution for each sample\n",
        "        # Entropy = -sum(p * log(p)) for each sample\n",
        "        uncertainties = -np.sum(avg_probabilities * np.log(avg_probabilities + 1e-10), axis=1)\n",
        "\n",
        "        # Step 5: Select the instance with the highest uncertainty\n",
        "        query_idx = np.argmax(uncertainties)\n",
        "        query_instance = X_unlabeled[query_idx]\n",
        "        query_label = y_unlabeled[query_idx]\n",
        "\n",
        "        # Step 6: Add the queried instance to the labeled set\n",
        "        X_labeled = np.vstack([X_labeled, query_instance])\n",
        "        y_labeled = np.append(y_labeled, query_label)\n",
        "\n",
        "        # Step 7: Remove the queried instance from the unlabeled pool\n",
        "        X_unlabeled = np.delete(X_unlabeled, query_idx, axis=0)\n",
        "        y_unlabeled = np.delete(y_unlabeled, query_idx)\n",
        "\n",
        "        # Step 8: Retrain all models in the committee on the updated labeled set\n",
        "        for model in models:\n",
        "            model.fit(X_labeled, y_labeled)\n",
        "\n",
        "        # Step 9: Evaluate the model on the test set\n",
        "        # Use the first model as a representative for evaluation (or average predictions)\n",
        "        test_accuracy = accuracy_score(y_test, models[0].predict(X_test))\n",
        "        accuracy_history.append(test_accuracy)\n",
        "\n",
        "        # Print progress\n",
        "        print(f\"Iteration {i+1}/{budget}: Test Accuracy = {test_accuracy:.4f}\")\n",
        "\n",
        "    # Final test accuracy\n",
        "    final_accuracy = accuracy_score(y_test, models[0].predict(X_test))\n",
        "    print(f\"Final Test Accuracy: {final_accuracy:.4f}\")\n",
        "\n",
        "    return accuracy_history"
      ],
      "metadata": {
        "id": "f5WptYBgzwkF"
      },
      "execution_count": 49,
      "outputs": []
    },
    {
      "cell_type": "code",
      "source": [
        "# Run active learning\n",
        "accuracy_history = Active_Learning_qbc(\n",
        "    X_labeled, y_labeled, X_unlabeled, y_unlabeled, X_test, y_test\n",
        ")\n",
        "\n",
        "# Plot accuracy progression\n",
        "plt.figure(figsize=(10, 6))\n",
        "plt.plot(range(1, len(accuracy_history) + 1), accuracy_history, marker='o', linestyle='-', color='b')\n",
        "plt.title('Accuracy Progression Over Active Learning - QBC Iterations', fontsize=16)\n",
        "plt.xlabel('Iteration', fontsize=14)\n",
        "plt.ylabel('Test Accuracy', fontsize=14)\n",
        "plt.grid(True)\n",
        "plt.show()"
      ],
      "metadata": {
        "colab": {
          "base_uri": "https://localhost:8080/",
          "height": 1000
        },
        "id": "vGZrRGHz4ahp",
        "outputId": "8af873dc-6971-4678-d4c9-d92522e70bf4"
      },
      "execution_count": 53,
      "outputs": [
        {
          "output_type": "stream",
          "name": "stdout",
          "text": [
            "Iteration 1/37\n",
            "Iteration 1/37: Test Accuracy = 0.9111\n",
            "Iteration 2/37\n",
            "Iteration 2/37: Test Accuracy = 0.9333\n",
            "Iteration 3/37\n",
            "Iteration 3/37: Test Accuracy = 0.9556\n",
            "Iteration 4/37\n",
            "Iteration 4/37: Test Accuracy = 0.9333\n",
            "Iteration 5/37\n",
            "Iteration 5/37: Test Accuracy = 0.9333\n",
            "Iteration 6/37\n",
            "Iteration 6/37: Test Accuracy = 0.9333\n",
            "Iteration 7/37\n",
            "Iteration 7/37: Test Accuracy = 0.9333\n",
            "Iteration 8/37\n",
            "Iteration 8/37: Test Accuracy = 0.9333\n",
            "Iteration 9/37\n",
            "Iteration 9/37: Test Accuracy = 0.9556\n",
            "Iteration 10/37\n",
            "Iteration 10/37: Test Accuracy = 0.9556\n",
            "Iteration 11/37\n",
            "Iteration 11/37: Test Accuracy = 0.9556\n",
            "Iteration 12/37\n",
            "Iteration 12/37: Test Accuracy = 0.9556\n",
            "Iteration 13/37\n",
            "Iteration 13/37: Test Accuracy = 0.9556\n",
            "Iteration 14/37\n",
            "Iteration 14/37: Test Accuracy = 0.9556\n",
            "Iteration 15/37\n",
            "Iteration 15/37: Test Accuracy = 0.9556\n",
            "Iteration 16/37\n",
            "Iteration 16/37: Test Accuracy = 0.9333\n",
            "Iteration 17/37\n",
            "Iteration 17/37: Test Accuracy = 0.9333\n",
            "Iteration 18/37\n",
            "Iteration 18/37: Test Accuracy = 0.9556\n",
            "Iteration 19/37\n",
            "Iteration 19/37: Test Accuracy = 0.9333\n",
            "Iteration 20/37\n",
            "Iteration 20/37: Test Accuracy = 0.9556\n",
            "Iteration 21/37\n",
            "Iteration 21/37: Test Accuracy = 0.9556\n",
            "Iteration 22/37\n",
            "Iteration 22/37: Test Accuracy = 0.9556\n",
            "Iteration 23/37\n",
            "Iteration 23/37: Test Accuracy = 0.9556\n",
            "Iteration 24/37\n",
            "Iteration 24/37: Test Accuracy = 0.9556\n",
            "Iteration 25/37\n",
            "Iteration 25/37: Test Accuracy = 0.9556\n",
            "Iteration 26/37\n",
            "Iteration 26/37: Test Accuracy = 0.9556\n",
            "Iteration 27/37\n",
            "Iteration 27/37: Test Accuracy = 0.9556\n",
            "Iteration 28/37\n",
            "Iteration 28/37: Test Accuracy = 0.9556\n",
            "Iteration 29/37\n",
            "Iteration 29/37: Test Accuracy = 0.9556\n",
            "Iteration 30/37\n",
            "Iteration 30/37: Test Accuracy = 0.9556\n",
            "Iteration 31/37\n",
            "Iteration 31/37: Test Accuracy = 0.9556\n",
            "Iteration 32/37\n",
            "Iteration 32/37: Test Accuracy = 0.9333\n",
            "Iteration 33/37\n",
            "Iteration 33/37: Test Accuracy = 0.9333\n",
            "Iteration 34/37\n",
            "Iteration 34/37: Test Accuracy = 0.9333\n",
            "Iteration 35/37\n",
            "Iteration 35/37: Test Accuracy = 0.9333\n",
            "Iteration 36/37\n",
            "Iteration 36/37: Test Accuracy = 0.9333\n",
            "Iteration 37/37\n",
            "Iteration 37/37: Test Accuracy = 0.9333\n",
            "Final Test Accuracy: 0.9333\n"
          ]
        },
        {
          "output_type": "display_data",
          "data": {
            "text/plain": [
              "<Figure size 1000x600 with 1 Axes>"
            ],
            "image/png": "[encoded data removed]"
          },
          "metadata": {}
        }
      ]
    },
    {
      "cell_type": "markdown",
      "source": [
        "## Accuracy Progression Over Active Learning - QBC Iterations\n",
        "\n",
        "The plot illustrates the progression of test accuracy over iterations of active learning using the **Query-by-Committee (QBC)** strategy. This technique involves querying the most uncertain samples from an unlabeled pool to improve the model's performance iteratively.\n",
        "\n",
        "### **Analysis**\n",
        "\n",
        "1. **Initial Performance**:\n",
        "   - At iteration 0, the test accuracy starts at approximately **0.91**. This baseline accuracy reflects the performance of the model trained on the initial labeled dataset.\n",
        "\n",
        "2. **Fluctuations and Improvements**:\n",
        "   - The test accuracy exhibits significant fluctuations throughout the iterations.\n",
        "   - There are notable spikes in accuracy, such as around iterations 5, 10, and 20, where the accuracy reaches close to **0.96**.\n",
        "   - These spikes indicate that querying certain samples significantly improves the model's generalization ability.\n",
        "   - In fact, for any unlabeled sample, their were no decrease of the accuracy beyond **0.91**\n",
        "\n",
        "\n",
        "3. **Stabilization**:\n",
        "   - After iteration 25, the test accuracy stabilizes around **0.93**, with minimal fluctuations.\n",
        "   - This stabilization indicates that the model has converged to a reasonably good performance level, and further queries are less likely to provide substantial improvements.\n",
        "\n",
        "\n"
      ],
      "metadata": {
        "id": "oAB82FTR5MCC"
      }
    },
    {
      "cell_type": "markdown",
      "source": [
        "# Part 4 :  **📊 Analysis & Questions**\n",
        "\n",
        "#### **Accuracy Improvements**\n",
        "\n",
        "1. **Query-by-Committee (QBC)**:\n",
        "   - **Initial Performance**: The model starts with a test accuracy of **0.91** at iteration 0, indicating a strong baseline performance.\n",
        "   - **Fluctuations and Improvements**: Significant spikes in accuracy occur at iterations 5, 10, and 20, reaching close to **0.96**. These spikes demonstrate that querying uncertain samples can lead to substantial improvements in model performance.\n",
        "   - **Stabilization**: After iteration 25, the accuracy stabilizes around **0.93**, indicating that the model has converged and further queries provide diminishing returns.\n",
        "\n",
        "2. **Uncertainty Sampling**:\n",
        "   - **Initial Performance**: The model starts with a lower test accuracy of **~0.89** at iteration 0, which increases to **0.91** by iteration 2. This suggests that the initial queried samples were representative and improved the model.\n",
        "   - **Fluctuations**: The accuracy fluctuates significantly, with peaks (e.g., **0.96** at iteration 10) and troughs. These fluctuations indicate that uncertainty sampling occasionally queries less informative or noisy samples, which can degrade performance temporarily.\n",
        "   - **Stabilization**: After iteration 25, the accuracy stabilizes around **0.93**, similar to QBC, suggesting that both methods eventually converge to a similar performance level.\n",
        "\n",
        "---\n",
        "\n",
        "#### **Query Efficiency**\n",
        "\n",
        "1. **QBC**:\n",
        "   - QBC demonstrates **consistent improvements** in accuracy with fewer fluctuations compared to uncertainty sampling. This suggests that the committee-based approach is more robust in selecting informative samples.\n",
        "   - The stabilization of accuracy after iteration 25 indicates that QBC efficiently identifies the most informative samples early in the process.\n",
        "\n",
        "2. **Uncertainty Sampling**:\n",
        "   - Uncertainty sampling shows **higher variability** in accuracy, with significant peaks and troughs. This indicates that the method is less consistent in selecting informative samples.\n",
        "\n",
        "---\n",
        "\n",
        "#### **Model Stability**\n",
        "\n",
        "1. **QBC**:\n",
        "   - QBC exhibits **greater stability** in accuracy progression, with fewer and smaller fluctuations. This suggests that the committee-based approach is more reliable in maintaining consistent performance.\n",
        "   - The stabilization phase is smoother, indicating that the model is less sensitive to noisy or less informative samples.\n",
        "\n",
        "2. **Uncertainty Sampling**:\n",
        "   - Uncertainty sampling shows **less stability**, with significant fluctuations in accuracy. This indicates that the model is more sensitive to the quality of the queried samples.\n",
        "   - While the method eventually stabilizes, the path to convergence is less smooth compared to QBC.\n",
        "\n",
        "---\n",
        "\n",
        "## **Conclusion**\n",
        "\n",
        "In conclusion, **QBC outperforms uncertainty sampling** in terms of query efficiency and model stability, while both methods achieve comparable final accuracy. However, the choice of method may depend on the specific application and the trade-off between stability and computational complexity."
      ],
      "metadata": {
        "id": "zFkOXaHnWpP7"
      }
    }
  ],
  "metadata": {
    "kernelspec": {
      "display_name": "spotCondaEnv",
      "language": "python",
      "name": "python3"
    },
    "language_info": {
      "codemirror_mode": {
        "name": "ipython",
        "version": 3
      },
      "file_extension": ".py",
      "mimetype": "text/x-python",
      "name": "python",
      "nbconvert_exporter": "python",
      "pygments_lexer": "ipython3",
      "version": "3.12.4"
    },
    "orig_nbformat": 4,
    "colab": {
      "provenance": [],
      "include_colab_link": true
    }
  },
  "nbformat": 4,
  "nbformat_minor": 0
}